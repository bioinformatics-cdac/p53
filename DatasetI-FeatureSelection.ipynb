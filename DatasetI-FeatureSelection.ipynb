{
 "cells": [
  {
   "cell_type": "code",
   "execution_count": 1,
   "metadata": {},
   "outputs": [],
   "source": [
    "import pyemma\n",
    "import matplotlib.pyplot as plt\n",
    "import matplotlib as mpl\n",
    "import numpy as np\n",
    "import pandas as pd"
   ]
  },
  {
   "cell_type": "code",
   "execution_count": 2,
   "metadata": {},
   "outputs": [],
   "source": [
    "pdb = './WT_ZAFF.pdb' #Topology PDB\n",
    "traj = './apo_300K_310K_combine_per100ps_tr1.nc' #All trajecotories at 100ps"
   ]
  },
  {
   "cell_type": "code",
   "execution_count": 3,
   "metadata": {},
   "outputs": [
    {
     "name": "stdout",
     "output_type": "stream",
     "text": [
      "Total number of distance features: 18336\n"
     ]
    },
    {
     "data": {
      "text/plain": [
       "MDFeaturizer with features:\n",
       "['DIST: SER 1 CA 4 0 - SER 4 CA 45 0',\n",
       " 'DIST: SER 1 CA 4 0 - GLN 5 CA 56 0',\n",
       " 'DIST: SER 1 CA 4 0 - LYS 6 CA 73 0',\n",
       " 'DIST: SER 1 CA 4 0 - THR 7 CA 95 0',\n",
       " 'DIST: SER 1 CA 4 0 - TYR 8 CA 109 0',\n",
       " 'DIST: SER 1 CA 4 0 - GLN 9 CA 130 0',\n",
       " 'DIST: SER 1 CA 4 0 - GLY 10 CA 147 0',\n",
       " 'DIST: SER 1 CA 4 0 - SER 11 CA 154 0',\n",
       " 'DIST: SER 1 CA 4 0 - TYR 12 CA 165 0',\n",
       " 'DIST: SER 1 CA 4 0 - GLY 13 CA 186 0', ...]"
      ]
     },
     "execution_count": 3,
     "metadata": {},
     "output_type": "execute_result"
    }
   ],
   "source": [
    "distance_feat = pyemma.coordinates.featurizer(pdb)\n",
    "distance_feat.add_distances_ca(periodic=True)\n",
    "print(\"Total number of distance features:\", distance_feat.dimension())\n",
    "parent_pairdist = pd.DataFrame(distance_feat.describe())\n",
    "distance_feat"
   ]
  },
  {
   "cell_type": "code",
   "execution_count": 4,
   "metadata": {},
   "outputs": [
    {
     "name": "stderr",
     "output_type": "stream",
     "text": [
      "100%|██████████| 29/29 [00:51<00:00,  1.78s/it]                                 \n"
     ]
    }
   ],
   "source": [
    "distance_data1=pyemma.coordinates.load(traj,features=distance_feat)"
   ]
  },
  {
   "cell_type": "code",
   "execution_count": 5,
   "metadata": {},
   "outputs": [
    {
     "name": "stdout",
     "output_type": "stream",
     "text": [
      "Number of frames/rows = 104775\n",
      "Distances/columns 18336\n"
     ]
    }
   ],
   "source": [
    "distance_df1 = pd.DataFrame(distance_data1)\n",
    "print(\"Number of frames/rows =\",distance_df1.shape[0])\n",
    "print(\"Distances/columns\",distance_df1.shape[1])"
   ]
  },
  {
   "cell_type": "code",
   "execution_count": 6,
   "metadata": {},
   "outputs": [
    {
     "name": "stdout",
     "output_type": "stream",
     "text": [
      "Total number of columns at the start: 18336\n"
     ]
    }
   ],
   "source": [
    "print(\"Total number of columns at the start:\", distance_df1.shape[1])"
   ]
  },
  {
   "cell_type": "code",
   "execution_count": 7,
   "metadata": {},
   "outputs": [],
   "source": [
    "df1 = distance_df1[(distance_df1>0.3) & (distance_df1<1)]"
   ]
  },
  {
   "cell_type": "code",
   "execution_count": 8,
   "metadata": {},
   "outputs": [
    {
     "name": "stdout",
     "output_type": "stream",
     "text": [
      "Filter 1: Removing distances lt 3 A and gt 10 A in all frames\n",
      "Number of columns after applying Filter 1:  3685\n"
     ]
    }
   ],
   "source": [
    "df_filter1 = df1.loc[:, (df1.isnull().sum(axis=0) >= distance_df1.shape[0])]\n",
    "filter_columns = df_filter1.columns\n",
    "df_filter1.shape[1]\n",
    "distance_df2 = distance_df1.drop(filter_columns, axis=1)\n",
    "print(\"Filter 1: Removing distances lt 3 A and gt 10 A in all frames\")\n",
    "print(\"Number of columns after applying Filter 1: \", distance_df2.shape[1])"
   ]
  },
  {
   "cell_type": "code",
   "execution_count": 9,
   "metadata": {},
   "outputs": [
    {
     "name": "stdout",
     "output_type": "stream",
     "text": [
      "Filter 2: Removing distances with variance lt 0.05\n",
      "Number of columns after applying Filter 2:  719\n"
     ]
    }
   ],
   "source": [
    "distance_df3 = distance_df2.loc[:, (distance_df2.var(axis=0) >= 0.05)]\n",
    "print(\"Filter 2: Removing distances with variance lt 0.05\")\n",
    "print(\"Number of columns after applying Filter 2: \", distance_df3.shape[1])"
   ]
  },
  {
   "cell_type": "code",
   "execution_count": 10,
   "metadata": {},
   "outputs": [
    {
     "name": "stdout",
     "output_type": "stream",
     "text": [
      "Filter 3: Removing terminal residue pairs\n",
      "Number of columns after applying Filter 3:  623\n"
     ]
    }
   ],
   "source": [
    "final_filter_pairs = distance_df3.columns\n",
    "filtered_pairs = parent_pairdist.loc[final_filter_pairs]\n",
    "filtered_pairs.columns = ['Pairs']\n",
    "filtered_split = filtered_pairs.Pairs.str.split(expand=True,)\n",
    "#filtered_split\n",
    "test1 = filtered_split[(filtered_split.iloc[:,2] !=\"1\") & (filtered_split.iloc[:,8] != \"194\")]\n",
    "distance_df4 = distance_df3[test1.index[:]]\n",
    "print(\"Filter 3: Removing terminal residue pairs\")\n",
    "print(\"Number of columns after applying Filter 3: \", distance_df4.shape[1])"
   ]
  },
  {
   "cell_type": "code",
   "execution_count": 11,
   "metadata": {},
   "outputs": [
    {
     "name": "stdout",
     "output_type": "stream",
     "text": [
      "First tICA performeed on: 623\n",
      "First cycle no. of tICs 256\n"
     ]
    }
   ],
   "source": [
    "tdist_data1=distance_df4.to_numpy()\n",
    "tica1 = pyemma.coordinates.tica(tdist_data1,lag=20)\n",
    "tica1_output = tica1.get_output()\n",
    "tica1_concatenated = np.concatenate(tica1_output)\n",
    "tica1_df = pd.DataFrame(tica1_concatenated)\n",
    "tica1_nos = tica1_df.shape[1]\n",
    "print(\"First tICA performeed on:\", distance_df4.shape[1])\n",
    "print(\"First cycle no. of tICs\", tica1_nos)"
   ]
  },
  {
   "cell_type": "code",
   "execution_count": 12,
   "metadata": {},
   "outputs": [],
   "source": [
    "tica1_values = tica1_df.iloc[:,0]\n",
    "tica2_values = tica1_df.iloc[:,1]\n",
    "tica3_values = tica1_df.iloc[:,2]\n",
    "tica4_values = tica1_df.iloc[:,3]\n",
    "corr1_df = pd.DataFrame()\n",
    "corr2_df = pd.DataFrame()\n",
    "corr3_df = pd.DataFrame()\n",
    "corr4_df = pd.DataFrame()\n",
    "final_corr =  pd.DataFrame()"
   ]
  },
  {
   "cell_type": "code",
   "execution_count": 13,
   "metadata": {},
   "outputs": [],
   "source": [
    "for col in distance_df4.columns:\n",
    "    d1 = distance_df4[col]\n",
    "    dist_corr1 = np.corrcoef(d1,tica1_values)\n",
    "    dist_corr2 = np.corrcoef(d1,tica2_values)\n",
    "    dist_corr3 = np.corrcoef(d1,tica3_values)\n",
    "    dist_corr4 = np.corrcoef(d1,tica4_values)\n",
    "    corr1_df[col]=[dist_corr1[0,1]]\n",
    "    corr2_df[col]=[dist_corr2[0,1]]\n",
    "    corr3_df[col]=[dist_corr3[0,1]]\n",
    "    corr4_df[col]=[dist_corr4[0,1]]\n",
    "    if(dist_corr1[0,1] > 0.4):\n",
    "        final_corr[col]=[dist_corr1[0,1]]"
   ]
  },
  {
   "cell_type": "code",
   "execution_count": 14,
   "metadata": {},
   "outputs": [
    {
     "name": "stdout",
     "output_type": "stream",
     "text": [
      "Filter 4: Removing distances showing correlation less than 0.4 with IC 1\n",
      "Number of columns after applying Filter 4:  106\n"
     ]
    }
   ],
   "source": [
    "final_corr.shape\n",
    "fin_cols = final_corr.columns\n",
    "distance_df5 = distance_df4[fin_cols]\n",
    "print(\"Filter 4: Removing distances showing correlation less than 0.4 with IC 1\")\n",
    "print(\"Number of columns after applying Filter 4: \", distance_df5.shape[1])"
   ]
  },
  {
   "cell_type": "code",
   "execution_count": 15,
   "metadata": {},
   "outputs": [
    {
     "name": "stdout",
     "output_type": "stream",
     "text": [
      "First tICA performed on: 106\n",
      "First cycle no. of tICs 70\n"
     ]
    }
   ],
   "source": [
    "tdist_data2=distance_df5.to_numpy()\n",
    "tica2 = pyemma.coordinates.tica(tdist_data2,lag=20)\n",
    "tica2_output = tica2.get_output()\n",
    "tica2_concatenated = np.concatenate(tica2_output)\n",
    "tica2_df = pd.DataFrame(tica2_concatenated)\n",
    "tica2_nos = tica2_df.shape[1]\n",
    "print(\"First tICA performed on:\", distance_df5.shape[1])\n",
    "print(\"First cycle no. of tICs\", tica2_nos)"
   ]
  },
  {
   "cell_type": "code",
   "execution_count": 16,
   "metadata": {},
   "outputs": [],
   "source": [
    "tica2_values1 = tica2_df.iloc[:,0]\n",
    "tica2_values2 = tica2_df.iloc[:,1]\n",
    "tica2_values3 = tica2_df.iloc[:,2]\n",
    "tica2_values4 = tica2_df.iloc[:,3]\n",
    "corr1_df2 = pd.DataFrame()\n",
    "corr2_df2 = pd.DataFrame()\n",
    "corr3_df2 = pd.DataFrame()\n",
    "corr4_df2 = pd.DataFrame()\n",
    "final_corr2 =  pd.DataFrame()"
   ]
  },
  {
   "cell_type": "code",
   "execution_count": 17,
   "metadata": {},
   "outputs": [],
   "source": [
    "for col1 in distance_df5.columns:\n",
    "    d2 = distance_df5[col1]\n",
    "    dist2_corr1 = np.corrcoef(d2,tica2_values1)\n",
    "    dist2_corr2 = np.corrcoef(d2,tica2_values2)\n",
    "    dist2_corr3 = np.corrcoef(d2,tica2_values3)\n",
    "    dist2_corr4 = np.corrcoef(d2,tica2_values4)\n",
    "    corr1_df2[col1]=[dist2_corr1[0,1]]\n",
    "    corr2_df2[col1]=[dist2_corr2[0,1]]\n",
    "    corr3_df2[col1]=[dist2_corr3[0,1]]\n",
    "    corr4_df2[col1]=[dist2_corr4[0,1]]\n",
    "    if(dist2_corr1[0,1] > 0.6):\n",
    "        final_corr2[col1]=[dist2_corr1[0,1]]"
   ]
  },
  {
   "cell_type": "code",
   "execution_count": 18,
   "metadata": {},
   "outputs": [
    {
     "name": "stdout",
     "output_type": "stream",
     "text": [
      "Filter 5: Removing distances showing correlation less than 0.6 with IC 1\n",
      "Number of columns after applying Filter 5:  59\n"
     ]
    }
   ],
   "source": [
    "final_corr2.shape\n",
    "fin_cols2 = final_corr2.columns\n",
    "distance_df6 = distance_df5[fin_cols2]\n",
    "print(\"Filter 5: Removing distances showing correlation less than 0.6 with IC 1\")\n",
    "print(\"Number of columns after applying Filter 5: \", distance_df6.shape[1])"
   ]
  },
  {
   "cell_type": "code",
   "execution_count": 19,
   "metadata": {},
   "outputs": [
    {
     "name": "stdout",
     "output_type": "stream",
     "text": [
      "Second tICA performed on: 59\n",
      "Second cycle no. of tICs 42\n"
     ]
    }
   ],
   "source": [
    "tdist_data3=distance_df6.to_numpy()\n",
    "tica3 = pyemma.coordinates.tica(tdist_data3,lag=20)\n",
    "tica3_output = tica3.get_output()\n",
    "tica3_concatenated = np.concatenate(tica3_output)\n",
    "tica3_df = pd.DataFrame(tica3_concatenated)\n",
    "tica3_nos = tica3_df.shape[1]\n",
    "print(\"Second tICA performed on:\", distance_df6.shape[1])\n",
    "print(\"Second cycle no. of tICs\", tica3_nos)"
   ]
  },
  {
   "cell_type": "code",
   "execution_count": 20,
   "metadata": {},
   "outputs": [],
   "source": [
    "tica3_values1 = tica3_df.iloc[:,0]\n",
    "tica3_values2 = tica3_df.iloc[:,1]\n",
    "tica3_values3 = tica3_df.iloc[:,2]\n",
    "tica3_values4 = tica3_df.iloc[:,3]\n",
    "corr1_df3 = pd.DataFrame()\n",
    "corr2_df3 = pd.DataFrame()\n",
    "corr3_df3 = pd.DataFrame()\n",
    "corr4_df3 = pd.DataFrame()\n",
    "final_corr3 =  pd.DataFrame()"
   ]
  },
  {
   "cell_type": "code",
   "execution_count": 21,
   "metadata": {},
   "outputs": [],
   "source": [
    "for col2 in distance_df6.columns:\n",
    "    d3 = distance_df6[col2]\n",
    "    dist3_corr1 = np.corrcoef(d3,tica3_values1)\n",
    "    dist3_corr2 = np.corrcoef(d3,tica3_values2)\n",
    "    dist3_corr3 = np.corrcoef(d3,tica3_values3)\n",
    "    dist3_corr4 = np.corrcoef(d3,tica3_values4)\n",
    "    corr1_df3[col2]=[dist3_corr1[0,1]]\n",
    "    corr2_df3[col2]=[dist3_corr2[0,1]]\n",
    "    corr3_df3[col2]=[dist3_corr3[0,1]]\n",
    "    corr4_df3[col2]=[dist3_corr4[0,1]]\n",
    "    if(dist3_corr1[0,1] > 0.7):\n",
    "        final_corr3[col2]=[dist3_corr1[0,1]]"
   ]
  },
  {
   "cell_type": "code",
   "execution_count": 22,
   "metadata": {},
   "outputs": [
    {
     "name": "stdout",
     "output_type": "stream",
     "text": [
      "Filter 6: Removing distances showing correlation less than 0.7 with IC 1\n",
      "Number of columns after applying Filter 6:  29\n"
     ]
    }
   ],
   "source": [
    "final_corr3.shape\n",
    "fin_cols3 = final_corr3.columns\n",
    "distance_df7 = distance_df6[fin_cols3]\n",
    "print(\"Filter 6: Removing distances showing correlation less than 0.7 with IC 1\")\n",
    "print(\"Number of columns after applying Filter 6: \", distance_df7.shape[1])"
   ]
  },
  {
   "cell_type": "code",
   "execution_count": 34,
   "metadata": {},
   "outputs": [
    {
     "name": "stdout",
     "output_type": "stream",
     "text": [
      "Third tICA performed on: 29\n",
      "Third cycle no. of tICs 23\n"
     ]
    }
   ],
   "source": [
    "tdist_data4=distance_df7.to_numpy()\n",
    "tica4 = pyemma.coordinates.tica(tdist_data4,lag=20)\n",
    "tica4_output = tica4.get_output()\n",
    "tica4_concatenated = np.concatenate(tica4_output)\n",
    "tica4_df = pd.DataFrame(tica4_concatenated)\n",
    "tica4_nos = tica4_df.shape[1]\n",
    "print(\"Third tICA performed on:\", distance_df7.shape[1])\n",
    "print(\"Third cycle no. of tICs\", tica4_nos)"
   ]
  },
  {
   "cell_type": "code",
   "execution_count": 24,
   "metadata": {},
   "outputs": [],
   "source": [
    "tica4_values1 = tica4_df.iloc[:,0]\n",
    "tica4_values2 = tica4_df.iloc[:,1]\n",
    "tica4_values3 = tica4_df.iloc[:,2]\n",
    "tica4_values4 = tica4_df.iloc[:,3]\n",
    "corr1_df4 = pd.DataFrame()\n",
    "corr2_df4 = pd.DataFrame()\n",
    "corr3_df4 = pd.DataFrame()\n",
    "corr4_df4 = pd.DataFrame()\n",
    "final_corr4 =  pd.DataFrame()"
   ]
  },
  {
   "cell_type": "code",
   "execution_count": 25,
   "metadata": {},
   "outputs": [],
   "source": [
    "for col3 in distance_df7.columns:\n",
    "    d4 = distance_df7[col3]\n",
    "    dist4_corr1 = np.corrcoef(d4,tica4_values1)\n",
    "    dist4_corr2 = np.corrcoef(d4,tica4_values2)\n",
    "    dist4_corr3 = np.corrcoef(d4,tica4_values3)\n",
    "    dist4_corr4 = np.corrcoef(d4,tica4_values4)\n",
    "    corr1_df4[col3]=[dist4_corr1[0,1]]\n",
    "    corr2_df4[col3]=[dist4_corr2[0,1]]\n",
    "    corr3_df4[col3]=[dist4_corr3[0,1]]\n",
    "    corr4_df4[col3]=[dist4_corr4[0,1]]\n",
    "    if(dist4_corr1[0,1] > 0.8):\n",
    "        final_corr4[col3]=[dist4_corr1[0,1]]"
   ]
  },
  {
   "cell_type": "code",
   "execution_count": 26,
   "metadata": {},
   "outputs": [
    {
     "name": "stdout",
     "output_type": "stream",
     "text": [
      "Filter 7: Removing distances showing correlation less than 0.8 with IC 1\n",
      "Number of columns after applying Filter 7:  16\n"
     ]
    }
   ],
   "source": [
    "final_corr4.shape\n",
    "fin_cols4 = final_corr4.columns\n",
    "distance_df8 = distance_df7[fin_cols4]\n",
    "print(\"Filter 7: Removing distances showing correlation less than 0.8 with IC 1\")\n",
    "print(\"Number of columns after applying Filter 7: \", distance_df8.shape[1])"
   ]
  },
  {
   "cell_type": "code",
   "execution_count": 33,
   "metadata": {},
   "outputs": [
    {
     "name": "stdout",
     "output_type": "stream",
     "text": [
      "Fourth tICA performed on: 16\n",
      "Fourth cycle no. of tICs 14\n"
     ]
    }
   ],
   "source": [
    "tdist_data5=distance_df8.to_numpy()\n",
    "tica5 = pyemma.coordinates.tica(tdist_data5,lag=20)\n",
    "tica5_output = tica5.get_output()\n",
    "tica5_concatenated = np.concatenate(tica5_output)\n",
    "tica5_df = pd.DataFrame(tica5_concatenated)\n",
    "tica5_nos = tica5_df.shape[1]\n",
    "print(\"Fourth tICA performed on:\", distance_df8.shape[1])\n",
    "print(\"Fourth cycle no. of tICs\", tica5_nos)"
   ]
  },
  {
   "cell_type": "code",
   "execution_count": 28,
   "metadata": {},
   "outputs": [],
   "source": [
    "tica5_values1 = tica5_df.iloc[:,0]\n",
    "tica5_values2 = tica5_df.iloc[:,1]\n",
    "tica5_values3 = tica5_df.iloc[:,2]\n",
    "tica5_values4 = tica5_df.iloc[:,3]\n",
    "corr1_df5 = pd.DataFrame()\n",
    "corr2_df5 = pd.DataFrame()\n",
    "corr3_df5 = pd.DataFrame()\n",
    "corr4_df5 = pd.DataFrame()\n",
    "final_corr5 =  pd.DataFrame()"
   ]
  },
  {
   "cell_type": "code",
   "execution_count": 29,
   "metadata": {},
   "outputs": [],
   "source": [
    "for col4 in distance_df8.columns:\n",
    "    d5 = distance_df8[col4]\n",
    "    dist5_corr1 = np.corrcoef(d4,tica4_values1)\n",
    "    dist5_corr2 = np.corrcoef(d4,tica4_values2)\n",
    "    dist5_corr3 = np.corrcoef(d4,tica4_values3)\n",
    "    dist5_corr4 = np.corrcoef(d4,tica4_values4)\n",
    "    corr1_df5[col4]=[dist5_corr1[0,1]]\n",
    "    corr2_df5[col4]=[dist5_corr2[0,1]]\n",
    "    corr3_df5[col4]=[dist5_corr3[0,1]]\n",
    "    corr4_df5[col4]=[dist5_corr4[0,1]]\n",
    "    if(dist5_corr1[0,1] > 0.9):\n",
    "        final_corr5[col4]=[dist5_corr1[0,1]]"
   ]
  },
  {
   "cell_type": "code",
   "execution_count": 30,
   "metadata": {},
   "outputs": [
    {
     "name": "stdout",
     "output_type": "stream",
     "text": [
      "Filter 8: Removing distances showing correlation less than 0.9 with IC 1\n",
      "Number of columns after applying Filter 8:  0\n"
     ]
    }
   ],
   "source": [
    "final_corr5.shape\n",
    "fin_cols5 = final_corr5.columns\n",
    "distance_df9 = distance_df8[fin_cols5]\n",
    "print(\"Filter 8: Removing distances showing correlation less than 0.9 with IC 1\")\n",
    "print(\"Number of columns after applying Filter 8: \", distance_df9.shape[1])"
   ]
  },
  {
   "cell_type": "code",
   "execution_count": 31,
   "metadata": {},
   "outputs": [],
   "source": [
    "filtered1_pairs2 = parent_pairdist.loc[distance_df8.columns]\n",
    "filtered1_pairs2.to_csv('Apo_pairlist_16.csv', index=False)"
   ]
  }
 ],
 "metadata": {
  "kernelspec": {
   "display_name": "Python 3",
   "language": "python",
   "name": "python3"
  },
  "language_info": {
   "codemirror_mode": {
    "name": "ipython",
    "version": 3
   },
   "file_extension": ".py",
   "mimetype": "text/x-python",
   "name": "python",
   "nbconvert_exporter": "python",
   "pygments_lexer": "ipython3",
   "version": "3.7.3"
  }
 },
 "nbformat": 4,
 "nbformat_minor": 4
}
